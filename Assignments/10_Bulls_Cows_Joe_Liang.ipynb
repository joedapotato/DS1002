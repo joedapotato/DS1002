{
  "cells": [
    {
      "cell_type": "markdown",
      "metadata": {
        "id": "view-in-github",
        "colab_type": "text"
      },
      "source": [
        "<a href=\"https://colab.research.google.com/github/joedapotato/DS1002/blob/main/Assignments/10_Bulls_Cows_Joe_Liang.ipynb\" target=\"_parent\"><img src=\"https://colab.research.google.com/assets/colab-badge.svg\" alt=\"Open In Colab\"/></a>"
      ]
    },
    {
      "cell_type": "markdown",
      "metadata": {
        "id": "lSwr8T3SNrkj"
      },
      "source": [
        "## Bulls and Cows:\n",
        "### Another guessing game.\n",
        "### Assignment due Wednesday 10 April at 10 am\n",
        "\n",
        "By Joe Liang\n",
        "\n",
        "General instructions:\n",
        "\n",
        "1. You may work in teams of up to three people.  As usual, if you do this, make sure all names are clearly displayed at the top of your submission, and all team members should submit the same GitHub URL.\n",
        "\n",
        "1. Use only basic Python code.  Do not use `numpy` arrays or functions.\n",
        "\n",
        "2. Practice utilizing the coding concepts we have studied.  \n",
        "\n",
        "3. Write docstrings for all your functions.\n",
        "\n"
      ]
    },
    {
      "cell_type": "markdown",
      "metadata": {
        "id": "qrWRyeI2NwHA"
      },
      "source": [
        "### Goal:  program this game\n",
        "In this assignment you will program a version of an old game called Bulls and Cows.  It is somewhat similar to Wordle, but with numbers instead of words (and various other differences . . . read carefully!).\n",
        "\n",
        "The game is played like this:  \n",
        "1. The computer will choose a secret code that the player is trying to guess.\n",
        "2. The secret code will be 4 digits long.  It will use only the digits 1-6, and it will have no repeated digits.  For example the secret code might be 1326 or 6241 but it cannot be 2652 or 4913 or 2601.\n",
        "3. The computer will prompt the user for a guess, and the user will guess.  The guess must follow the same rules (4 digits long, only use digits 1-6, no repeats).  The program should not allow an invalid guess.\n",
        "4. After each guess, the computer will give feedback to the user as follows:  \n",
        "(i) Each digit of the guess that is in the secret code and in the correct position is called a Bull (B).  \n",
        "(ii) Each digit of the guess that exists somewhere in the secret code, but *not* in the same position as in the guess, is called a Cow (C).  \n",
        "(iii) A digit of the guess that doesn't occur anywhere in the secret code is called a miss (X).  \n",
        "The computer will inform the user how many Bulls, how many Cows, and how many misses the user's guess had.  \n",
        "The feedback will always start with B's, then list C's, then list X's.  \n",
        "For example if the secret code is 1326  \n",
        "and the guess is 4316  \n",
        "then the computer should respond with \"BBCX\"  \n",
        "because there are two Bulls (the 3 and the 6 are Bulls, because they occur in the same position in the guess as in the secret code),  \n",
        "one Cow (the 1, which is a correct digit but in the wrong position),  \n",
        "and one Miss (the 4, which does not occur anywhere in the secret code).  \n",
        "> **Important:** the feedback string should always list the Bulls first, then the Cows, then the Misses.  It should **not** tell the user which digits are which!  The only information in the feedback string is how many of each there are.  In the example above, for instance, the feedback is **not** \"XBCB\" but rather \"BBCX\".  This is different from Wordle, if you are familiar with that game.\n",
        "5. The user should then be prompted for another guess.  This guess-with-feedback process should be repeated until the user gets the correct code, at which point the computer should indicate that they have won the game.  However, the user should only be allowed 6 guesses; if they don't guess correctly in 6 attempts, then following the feedback from their final guess they should get a message that they have lost the game, and the secret code should be revealed.\n",
        "\n",
        "\n",
        "\n",
        "\n",
        "\n",
        "\n",
        "\n"
      ]
    },
    {
      "cell_type": "markdown",
      "source": [
        "### Steps\n",
        "We will build this game using several functions.  \n",
        "\n",
        "1. **Count the Bulls:**  \n",
        "Write a function that takes two lists of the same length, and returns the number of Bulls.  That is, it should return the number of indices where the lists contain the same element.  *(Note:  you don't have to check that the entries are between 1 and 6, or that there are no repeats, etc.  A different function will do that.)*\n",
        "\n",
        "> A sample run might look like\n",
        "```\n",
        "first = [11, 3, 17, 5, 1]\n",
        "second = [20, 2, 17, 3, 1]\n",
        "count_bulls(first,second)\n",
        "```\n",
        "```\n",
        " 2\n",
        "```\n"
      ],
      "metadata": {
        "id": "XSH1JULaurD1"
      }
    },
    {
      "cell_type": "markdown",
      "source": [
        "Define your function in the code chunk below.  The function definition command and the return command are pre-populated for you.  You just have to fill in the part which does the actual counting.  I recommend using a list comprehension to do this.\n"
      ],
      "metadata": {
        "id": "pXoOyBk7xmPa"
      }
    },
    {
      "cell_type": "code",
      "source": [
        "# the Bull-counting function\n",
        "def count_bulls(first, second):\n",
        "  '''\n",
        "  Takes two lists of the same length and computes the number of positions where the list entries agree.\n",
        "  '''\n",
        "  num_bulls = 0\n",
        "  f = iter(first)\n",
        "  s = iter(second)\n",
        "\n",
        "  for i in range(len(first)):\n",
        "    if next(f) == next(s):\n",
        "      num_bulls += 1  # finish this line of code to make the function function!\n",
        "  return num_bulls"
      ],
      "metadata": {
        "id": "vEsRSe8KxlcF"
      },
      "execution_count": 27,
      "outputs": []
    },
    {
      "cell_type": "code",
      "source": [
        "first = [20, 3, 10, 5, 1]\n",
        "second = [10, 3, 17, 5, 1]\n",
        "\n",
        "count_bulls(first,second)"
      ],
      "metadata": {
        "colab": {
          "base_uri": "https://localhost:8080/"
        },
        "id": "k9Upel24YwHP",
        "outputId": "0c799b3a-35df-4ecb-d828-7506ce79e0c1"
      },
      "execution_count": 28,
      "outputs": [
        {
          "output_type": "execute_result",
          "data": {
            "text/plain": [
              "3"
            ]
          },
          "metadata": {},
          "execution_count": 28
        }
      ]
    },
    {
      "cell_type": "markdown",
      "source": [
        "Add code and/or text chunks below to demonstrate that you have tested your code and that it works correctly."
      ],
      "metadata": {
        "id": "yACJyJtOzE2U"
      }
    },
    {
      "cell_type": "markdown",
      "source": [
        "2. **Count something else:**  \n",
        "To count the cows it will be helpful first to count how many of the elements occur in both strings, without paying attention their positions.\n",
        "Write a function called `count_animals` that takes two lists of the same length, and returns the number of elements of the second list that are also in the first list.  (In the game setting, each such element is either a Bull or a Cow, but don't worry about which is which for this problem.)\n",
        "You may assume the lists do not contain repeated elements, since this will be the case when the function is called in the game.\n",
        "\n",
        "> This time a sample run might look like\n",
        "```\n",
        "first = [11, 3, 17, 5, 1]\n",
        "second = [20, 2, 17, 3, 1]\n",
        "count_animals(first,second)\n",
        "```\n",
        "```\n",
        " 3\n",
        "```\n",
        "\n",
        "This one isn't started for you.  Remember to include a docstring.  This can also be done using a list comprehension, similar to the previous function.\n",
        "\n"
      ],
      "metadata": {
        "id": "aMsOmejkzNVN"
      }
    },
    {
      "cell_type": "code",
      "source": [
        "# define your function here\n",
        "\n",
        "def count_animals(first,second):\n",
        "  '''\n",
        "  Takes two lists of non-repeating elements to find the number of similar elements.\n",
        "  '''\n",
        "  num_animals = 0\n",
        "  for i in first:\n",
        "    if i in second:\n",
        "      num_animals += 1\n",
        "  return num_animals\n"
      ],
      "metadata": {
        "id": "yRX219q02e6i"
      },
      "execution_count": 29,
      "outputs": []
    },
    {
      "cell_type": "code",
      "source": [
        "first = [11, 3, 17, 5, 1]\n",
        "second = [20, 2, 17, 3, 1]\n",
        "\n",
        "count_animals(first,second)"
      ],
      "metadata": {
        "colab": {
          "base_uri": "https://localhost:8080/"
        },
        "id": "QNi2xr3bc0g-",
        "outputId": "037a9fee-3c92-458f-8c1f-0143874aa0cd"
      },
      "execution_count": 30,
      "outputs": [
        {
          "output_type": "execute_result",
          "data": {
            "text/plain": [
              "3"
            ]
          },
          "metadata": {},
          "execution_count": 30
        }
      ]
    },
    {
      "cell_type": "markdown",
      "source": [
        "Again, demonstrate below that you have tested your code and that it works."
      ],
      "metadata": {
        "id": "HXRNwANS2f-4"
      }
    },
    {
      "cell_type": "markdown",
      "source": [
        "3. **Count the cows:**  \n",
        "Write a function called `count_cows` that counts the cows.  \n",
        "> This time a sample run might look like\n",
        "```\n",
        "first = [11, 3, 17, 5, 1]\n",
        "second = [20, 2, 17, 3, 1]\n",
        "count_cows(first,second)\n",
        "```\n",
        "```\n",
        " 1\n",
        "```\n",
        "*Use the two previously defined functions to help you!  \n",
        "In fact, remember that the only reason we wrote the `count_animals` function was to help count the cows.*\n",
        "\n",
        "You can do this with only two lines of code, not counting documentation!"
      ],
      "metadata": {
        "id": "x2DAPkxj2GMo"
      }
    },
    {
      "cell_type": "code",
      "source": [
        "# put the Cow counting function here\n",
        "\n",
        "def count_cows(first,second):\n",
        "  '''\n",
        "  Counts the number of cows by subtracting the number of bulls from number of animals.\n",
        "  '''\n",
        "  num_cows = count_animals(first,second) - count_bulls(first,second)\n",
        "  return num_cows"
      ],
      "metadata": {
        "id": "QnxnaOPI3YZO"
      },
      "execution_count": 31,
      "outputs": []
    },
    {
      "cell_type": "code",
      "source": [
        "first = [11, 3, 17, 5, 1]\n",
        "second = [20, 2, 17, 3, 1]\n",
        "count_cows(first,second)"
      ],
      "metadata": {
        "colab": {
          "base_uri": "https://localhost:8080/"
        },
        "id": "NSD4x8jAebrp",
        "outputId": "a6bbac1c-e1d3-4242-a93b-413379ccbb4d"
      },
      "execution_count": 32,
      "outputs": [
        {
          "output_type": "execute_result",
          "data": {
            "text/plain": [
              "1"
            ]
          },
          "metadata": {},
          "execution_count": 32
        }
      ]
    },
    {
      "cell_type": "markdown",
      "metadata": {
        "id": "hWQhYDIVYjXr"
      },
      "source": [
        "4. **Create feedback string**  \n",
        "Write a `build_response_str` function that takes three numbers, say `b,c,l`, and outputs a string of total length `l` that consists of `b` B's, followed by `c` C's, and the rest X's (until the total length is `l`).\n",
        "\n",
        "> Sample run:\n",
        "```\n",
        "build_response_str(4,3,9)\n",
        "```\n",
        "```\n",
        "BBBBCCCXX\n",
        "```"
      ]
    },
    {
      "cell_type": "code",
      "source": [
        "# define your function here\n",
        "\n",
        "def build_response_str(b,c,l):\n",
        "  '''\n",
        "  Prints the number of bulls, cows, and misses\n",
        "  '''\n",
        "  print(f\"{b*'B'}{c*'C'}{(l-c-b)*'X'}\")"
      ],
      "metadata": {
        "id": "GSimWqUsMaPE"
      },
      "execution_count": 33,
      "outputs": []
    },
    {
      "cell_type": "code",
      "source": [
        "build_response_str(4,3,12)"
      ],
      "metadata": {
        "colab": {
          "base_uri": "https://localhost:8080/"
        },
        "id": "mGXi-tIem7s_",
        "outputId": "e4859988-5134-48f0-8107-f7effa2414ac"
      },
      "execution_count": 34,
      "outputs": [
        {
          "output_type": "stream",
          "name": "stdout",
          "text": [
            "BBBBCCCXXXXX\n"
          ]
        }
      ]
    },
    {
      "cell_type": "markdown",
      "source": [
        "Test your code here."
      ],
      "metadata": {
        "id": "2D14kxTU7ApH"
      }
    },
    {
      "cell_type": "markdown",
      "metadata": {
        "id": "omzE6sLKwsMC"
      },
      "source": [
        "5.  **Generate feedback for guesses**  \n",
        "Write a function `response(first,second)` that takes two lists of the same length, and outputs a string consisting of some number of B's followed by some number of C's followed by some number of X's, where the numbers correspond to the things we counted above.  That is, if `first` were the secret code in the game and `second` were the user's guess, then we would print one B for each Bull, one C for each Cow, and one X for each Miss. The total output string should have the same length as the input strings.\n",
        "\n",
        "> Sample run:\n",
        "```\n",
        "first = [11, 3, 17, 5, 1]\n",
        "second = [20, 2, 17, 3, 1]\n",
        "response(first,second)\n",
        "```\n",
        "```\n",
        " BBCXX\n",
        "```\n",
        "\n",
        "With all the functions you've already put in place, this should be simple.  Test your code once it's written.\n"
      ]
    },
    {
      "cell_type": "code",
      "source": [
        "def response(first,second):\n",
        "  '''\n",
        "  Gives response as to the bulls, cows, and misses in two unique lists\n",
        "  '''\n",
        "  build_response_str(count_bulls(first,second),count_cows(first,second),len(first))"
      ],
      "metadata": {
        "id": "RD1qq7l783y5"
      },
      "execution_count": 35,
      "outputs": []
    },
    {
      "cell_type": "code",
      "source": [
        "first = [11, 3, 17, 5, 1]\n",
        "second = [20, 2, 17, 3, 1]\n",
        "response(first,second)"
      ],
      "metadata": {
        "colab": {
          "base_uri": "https://localhost:8080/"
        },
        "id": "LVKi3cfJoUzY",
        "outputId": "ad06898d-ce77-4312-f65e-5e83208e6798"
      },
      "execution_count": 36,
      "outputs": [
        {
          "output_type": "stream",
          "name": "stdout",
          "text": [
            "BBCXX\n"
          ]
        }
      ]
    },
    {
      "cell_type": "markdown",
      "metadata": {
        "id": "LWshNPjPZJdQ"
      },
      "source": [
        "6.  **Choose the secret code**  \n",
        "The `random` package, and specifically the `sample` sub-package, is useful for generating random samples.  Try running the following lines of code several times.\n",
        "\n"
      ]
    },
    {
      "cell_type": "code",
      "source": [
        "from random import sample\n",
        "\n",
        "rando_num = sample(range(1,7),4)  # the first argument is the population to be sampled, and the second is the number of samples\n",
        "                      # recall that `range(a,b)` includes `a` but stops at `b-1`\n",
        "type(rando_num)"
      ],
      "metadata": {
        "id": "OzEZ5BQZ85jV",
        "colab": {
          "base_uri": "https://localhost:8080/"
        },
        "outputId": "370e9e3a-8313-4af2-f7d8-959dfa16ec31"
      },
      "execution_count": 37,
      "outputs": [
        {
          "output_type": "execute_result",
          "data": {
            "text/plain": [
              "list"
            ]
          },
          "metadata": {},
          "execution_count": 37
        }
      ]
    },
    {
      "cell_type": "markdown",
      "source": [
        "What type of object is returned by the `sample` function?\n",
        "\n",
        "Response: A set of random numbers from 1 to 6 are returned."
      ],
      "metadata": {
        "id": "N1BOe2Xd-kr4"
      }
    },
    {
      "cell_type": "markdown",
      "source": [
        "7. **Verify the guess**  \n",
        "Finish writing a function called `get_guess` (started below) to prompt the user for a guess and then make sure the input is valid according to the rules of the game.\n",
        "The prompt is already given.  Note that the `list` command converts the input into a list of characters so that it can be passed to the other functions (which are expecting lists).   \n",
        ">**Alert:  you will likely have to think more about data types before this is all over.**"
      ],
      "metadata": {
        "id": "mbK84TdIAVsO"
      }
    },
    {
      "cell_type": "code",
      "source": [
        "def get_guess():\n",
        "  '''\n",
        "  Receives a guess input from user and verifies that it follows the rules of Bulls and Cows.\n",
        "  This function returns nothing.\n",
        "  The input will follow the following rules:\n",
        "  1. Have four integers\n",
        "  2. Have no repeating digits\n",
        "  3. Have values from 1 to 6\n",
        "  '''\n",
        "  legitimacy = 0\n",
        "  while legitimacy < 4:\n",
        "    legitimacy = 0\n",
        "    line = 'Please enter a list of four integers from 1 to 6 separated by nothing and are non-repeating. Example: 1234 will yield a list of [1,2,3,4]'\n",
        "    try:\n",
        "      guess = list(input(\"Enter your guess:\"))\n",
        "      guess = [int(i) for i in guess]\n",
        "      print(guess)\n",
        "    except:\n",
        "      print(line)\n",
        "    else:\n",
        "      if type(guess) == list and len(guess) == 4:\n",
        "        for i in guess:\n",
        "          int(i)\n",
        "          if 0 < i < 7 and guess.count(i) < 2:\n",
        "            legitimacy += 1\n",
        "          else:\n",
        "            print('Make sure the list is non-repeating and values are ranging from 1-6.')\n",
        "            break\n",
        "      else:\n",
        "        print('Make sure there are only four numbers.')\n",
        "  return guess"
      ],
      "metadata": {
        "id": "13HGg6VvBXSH"
      },
      "execution_count": 45,
      "outputs": []
    },
    {
      "cell_type": "code",
      "source": [
        "get_guess()"
      ],
      "metadata": {
        "colab": {
          "base_uri": "https://localhost:8080/"
        },
        "id": "iMWefWdCqEMn",
        "outputId": "94599d4b-46bf-498f-b7f8-d8422c053601"
      },
      "execution_count": 46,
      "outputs": [
        {
          "output_type": "stream",
          "name": "stdout",
          "text": [
            "Enter your guess:11111\n",
            "[1, 1, 1, 1, 1]\n",
            "Make sure there are only four numbers.\n",
            "Enter your guess:2912\n",
            "[2, 9, 1, 2]\n",
            "Make sure the list is non-repeating and values are ranging from 1-6.\n",
            "Enter your guess:string\n",
            "Please enter a list of four integers from 1 to 6 separated by nothing and are non-repeating. Example: 1234 will yield a list of [1,2,3,4]\n",
            "Enter your guess:1.11\n",
            "Please enter a list of four integers from 1 to 6 separated by nothing and are non-repeating. Example: 1234 will yield a list of [1,2,3,4]\n",
            "Enter your guess:2345\n",
            "[2, 3, 4, 5]\n"
          ]
        },
        {
          "output_type": "execute_result",
          "data": {
            "text/plain": [
              "[2, 3, 4, 5]"
            ]
          },
          "metadata": {},
          "execution_count": 46
        }
      ]
    },
    {
      "cell_type": "markdown",
      "source": [
        "8. **Put it all together**  \n",
        "Finally, fill in the details of the function `bulls_cows` below so that it will play the game of Bulls and Cows when called.  Note that the function takes no arguments and returns nothing.\n"
      ],
      "metadata": {
        "id": "WdtvUrA4-uzn"
      }
    },
    {
      "cell_type": "code",
      "execution_count": 47,
      "metadata": {
        "id": "_u48oidGzRKX"
      },
      "outputs": [],
      "source": [
        "from random import sample\n",
        "\n",
        "def bulls_cows():\n",
        "  '''\n",
        "  This function plays the game \"Bulls and Cows.\"\n",
        "  It takes no arguments and returns nothing.\n",
        "  '''\n",
        "  code=sample(range(1,7),4)                               # (finish) computer selects the secret code\n",
        "\n",
        "  for i in range(6):                  # user gets a maximum of 6 guesses\n",
        "    guess=get_guess()                            # (finish) run a function to get a guess\n",
        "    if code==guess:\n",
        "      print(\"You guessed it!\")\n",
        "      return\n",
        "    print(response(code,guess))\n",
        "  print(f\"You have run out of guesses. The secret code was {code}.\")\n",
        "  return"
      ]
    },
    {
      "cell_type": "markdown",
      "metadata": {
        "id": "NzjqX_9K3OuV"
      },
      "source": [
        "Play the game a few times below.  Make sure it behaves as you think it should!"
      ]
    },
    {
      "cell_type": "code",
      "execution_count": 48,
      "metadata": {
        "id": "b-HELV-z3OuW",
        "colab": {
          "base_uri": "https://localhost:8080/"
        },
        "outputId": "aa0dde90-ebd6-4c15-e7b4-2b62b9f64ece"
      },
      "outputs": [
        {
          "output_type": "stream",
          "name": "stdout",
          "text": [
            "Enter your guess:2301\n",
            "[2, 3, 0, 1]\n",
            "Make sure the list is non-repeating and values are ranging from 1-6.\n",
            "Enter your guess:1234\n",
            "[1, 2, 3, 4]\n",
            "CCCX\n",
            "None\n",
            "Enter your guess:1235\n",
            "[1, 2, 3, 5]\n",
            "CCCC\n",
            "None\n",
            "Enter your guess:1235\n",
            "[1, 2, 3, 5]\n",
            "CCCC\n",
            "None\n",
            "Enter your guess:12345\n",
            "[1, 2, 3, 4, 5]\n",
            "Make sure there are only four numbers.\n",
            "Enter your guess:1212\n",
            "[1, 2, 1, 2]\n",
            "Make sure the list is non-repeating and values are ranging from 1-6.\n",
            "Enter your guess:1212\n",
            "[1, 2, 1, 2]\n",
            "Make sure the list is non-repeating and values are ranging from 1-6.\n",
            "Enter your guess:1234\n",
            "[1, 2, 3, 4]\n",
            "CCCX\n",
            "None\n",
            "Enter your guess:1532\n",
            "[1, 5, 3, 2]\n",
            "BCCC\n",
            "None\n",
            "Enter your guess:1432\n",
            "[1, 4, 3, 2]\n",
            "BCCX\n",
            "None\n",
            "You have run out of guesses. The secret code was [3, 1, 5, 2].\n"
          ]
        }
      ],
      "source": [
        "bulls_cows()"
      ]
    },
    {
      "cell_type": "code",
      "source": [
        "bulls_cows()"
      ],
      "metadata": {
        "id": "inzOdtimDfGU",
        "colab": {
          "base_uri": "https://localhost:8080/"
        },
        "outputId": "9bcd8247-286a-45a1-f345-168e681c3544"
      },
      "execution_count": 49,
      "outputs": [
        {
          "output_type": "stream",
          "name": "stdout",
          "text": [
            "Enter your guess:3421\n",
            "[3, 4, 2, 1]\n",
            "BBCX\n",
            "None\n",
            "Enter your guess:3456\n",
            "[3, 4, 5, 6]\n",
            "BBBX\n",
            "None\n",
            "Enter your guess:3452\n",
            "[3, 4, 5, 2]\n",
            "BBXX\n",
            "None\n",
            "Enter your guess:3416\n",
            "[3, 4, 1, 6]\n",
            "You guessed it!\n"
          ]
        }
      ]
    },
    {
      "cell_type": "code",
      "source": [
        "bulls_cows()"
      ],
      "metadata": {
        "id": "Eqw-5laFDfkG",
        "colab": {
          "base_uri": "https://localhost:8080/"
        },
        "outputId": "96e7319c-fb4b-40be-a7ff-e81a71d0f674"
      },
      "execution_count": 50,
      "outputs": [
        {
          "output_type": "stream",
          "name": "stdout",
          "text": [
            "Enter your guess:1234\n",
            "[1, 2, 3, 4]\n",
            "BCCX\n",
            "None\n",
            "Enter your guess:3451\n",
            "[3, 4, 5, 1]\n",
            "BCXX\n",
            "None\n",
            "Enter your guess:3412\n",
            "[3, 4, 1, 2]\n",
            "BCCX\n",
            "None\n",
            "Enter your guess:4356\n",
            "[4, 3, 5, 6]\n",
            "CCCX\n",
            "None\n",
            "Enter your guess:3126\n",
            "[3, 1, 2, 6]\n",
            "BBCX\n",
            "None\n",
            "Enter your guess:3142\n",
            "[3, 1, 4, 2]\n",
            "BCCX\n",
            "None\n",
            "You have run out of guesses. The secret code was [3, 6, 2, 4].\n"
          ]
        }
      ]
    },
    {
      "cell_type": "markdown",
      "source": [
        "9. **Reflect**  \n",
        "Think of at least three ways you could change the rules or setup of the game, and in each case describe (in one sentence, you don't need to write code) what you would have to do to modify your code to play the new version of the game.  Use a text box below for each of your ideas."
      ],
      "metadata": {
        "id": "a58-KCX4ELRO"
      }
    },
    {
      "cell_type": "markdown",
      "source": [
        "(1) There can be repeating digits and more numbers to choose from for the game. This will require the guess detections and randomized number code answer to be changed."
      ],
      "metadata": {
        "id": "Jof2vIZSEfwo"
      }
    },
    {
      "cell_type": "markdown",
      "source": [
        "(2) It can instead be guess the word, so the code can randomly select a word from our previous list of words. Then, the code can be changed so that each letter of the word is a single entry in the list to be matched similarly to Bulls and Cows."
      ],
      "metadata": {
        "id": "f2_QlBavEiqW"
      }
    },
    {
      "cell_type": "markdown",
      "source": [
        "(3) Guess my credit card security PIN and credit card number. Another rule change could be guessing three series of consecutive numbers, and there are three guesses each time. The three guesses will all have three responses mixed up randomly, so one will have to match the responses to the guesses. Mostly I will need to change the guess requirement to be consecutive numbers maybe using iter(), and the other thing will be to basically ask for three guesses consecutively by making three guess variables."
      ],
      "metadata": {
        "id": "sqfq2EFpEjZt"
      }
    }
  ],
  "metadata": {
    "colab": {
      "provenance": [],
      "include_colab_link": true
    },
    "kernelspec": {
      "display_name": "Python 3",
      "name": "python3"
    },
    "language_info": {
      "name": "python"
    }
  },
  "nbformat": 4,
  "nbformat_minor": 0
}