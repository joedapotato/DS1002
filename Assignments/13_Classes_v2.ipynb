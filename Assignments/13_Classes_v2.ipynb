{
  "nbformat": 4,
  "nbformat_minor": 0,
  "metadata": {
    "colab": {
      "provenance": [],
      "include_colab_link": true
    },
    "kernelspec": {
      "name": "python3",
      "display_name": "Python 3"
    },
    "language_info": {
      "name": "python"
    }
  },
  "cells": [
    {
      "cell_type": "markdown",
      "metadata": {
        "id": "view-in-github",
        "colab_type": "text"
      },
      "source": [
        "<a href=\"https://colab.research.google.com/github/joedapotato/DS1002/blob/main/Assignments/13_Classes_v2.ipynb\" target=\"_parent\"><img src=\"https://colab.research.google.com/assets/colab-badge.svg\" alt=\"Open In Colab\"/></a>"
      ]
    },
    {
      "cell_type": "markdown",
      "source": [
        "## Assignment:  Classes\n",
        "### Due Sunday 28 April at 10pm"
      ],
      "metadata": {
        "id": "5Vy93BSp9Tum"
      }
    },
    {
      "cell_type": "markdown",
      "source": [
        "Joe Liang\n",
        "\n",
        "Resubmission on April 29th\n",
        "\n",
        "Previous submission: https://github.com/joedapotato/DS1002/blob/main/Assignments/Copy_of_13_Classes.ipynb"
      ],
      "metadata": {
        "id": "RVKOiDNoeH9Y"
      }
    },
    {
      "cell_type": "markdown",
      "source": [
        "1.  Define a class called `Person` that has attributes `lastName`, `firstName`, `mother`, and `father`.  Both `mother` and `father` should have default value `unknown`.\n",
        "\n",
        "  Include a `__str__()` function that returns a string of the form '`firstName` `lastName`'.\n",
        "\n",
        "  Include a `__repr__()` function that returns a string that can be evaluated to recreate the `Person` object.\n",
        "\n"
      ],
      "metadata": {
        "id": "vcj5XQAI9Wsb"
      }
    },
    {
      "cell_type": "code",
      "source": [
        "class Person:\n",
        "  def __init__(self,lastName,firstName,mother,father):\n",
        "    self.lastName = lastName\n",
        "    self.firstName = firstName\n",
        "    self.mother = mother\n",
        "    self.father = father\n",
        "  def __str__(self):\n",
        "    return f\"{self.firstName} {self.lastName}\"\n",
        "  def __repr__(self):\n",
        "    return f'Person(\"{self.lastName}\",\"{self.firstName}\",\"{self.mother}\",\"{self.father}\")'"
      ],
      "metadata": {
        "id": "mjHDwHv3EpVe"
      },
      "execution_count": 1,
      "outputs": []
    },
    {
      "cell_type": "markdown",
      "source": [
        "Create a person (i.e., a `Person` object) called `p` with unknown parents.  (You will need to give your person a first and last name.) Check the type of `p`.  Include all inputs and outputs."
      ],
      "metadata": {
        "id": "-ppMsEIVHINl"
      }
    },
    {
      "cell_type": "code",
      "source": [
        "p = Person(\"Ryan\",\"Jim\",'unknown','unknown')\n",
        "print(type(p))\n",
        "print(p)\n",
        "print(p.lastName, p.firstName, p.mother, p.father)"
      ],
      "metadata": {
        "id": "5bwid_6gHIBH",
        "colab": {
          "base_uri": "https://localhost:8080/"
        },
        "outputId": "b7836c14-2114-4e17-d534-d2e27d7d60cb"
      },
      "execution_count": 2,
      "outputs": [
        {
          "output_type": "stream",
          "name": "stdout",
          "text": [
            "<class '__main__.Person'>\n",
            "Jim Ryan\n",
            "Ryan Jim unknown unknown\n"
          ]
        }
      ]
    },
    {
      "cell_type": "markdown",
      "source": [
        "Verify that your `__str__` and `__repr__` functions are doing what they are supposed to do.  Include all inputs and outputs."
      ],
      "metadata": {
        "id": "Z6zlUC3xRtal"
      }
    },
    {
      "cell_type": "code",
      "source": [
        "print('str:',p)\n",
        "print('repr:',repr(p))"
      ],
      "metadata": {
        "id": "jZO0dBQYRs-K",
        "colab": {
          "base_uri": "https://localhost:8080/"
        },
        "outputId": "40546ed3-7fe1-4811-db0c-c11de8eacff4"
      },
      "execution_count": 3,
      "outputs": [
        {
          "output_type": "stream",
          "name": "stdout",
          "text": [
            "str: Jim Ryan\n",
            "repr: Person(\"Ryan\",\"Jim\",\"unknown\",\"unknown\")\n"
          ]
        }
      ]
    },
    {
      "cell_type": "markdown",
      "source": [
        "Suppose the mother of `p` has been found and is named Taylor Swift.  Create a new person named Taylor Swift, and make her the mother of `p`:\n",
        "\n",
        "```\n",
        "> p.mother\n",
        "'Taylor Swift'\n",
        "```"
      ],
      "metadata": {
        "id": "1mOAThQiHzoQ"
      }
    },
    {
      "cell_type": "code",
      "source": [
        "p.mother = 'Taylor Swift'\n",
        "print(repr(p))"
      ],
      "metadata": {
        "id": "NYbDOorpHymz",
        "colab": {
          "base_uri": "https://localhost:8080/"
        },
        "outputId": "30ad0644-7901-4e99-d1f8-01e69b867062"
      },
      "execution_count": 4,
      "outputs": [
        {
          "output_type": "stream",
          "name": "stdout",
          "text": [
            "Person(\"Ryan\",\"Jim\",\"Taylor Swift\",\"unknown\")\n"
          ]
        }
      ]
    },
    {
      "cell_type": "markdown",
      "source": [
        "2.  Add some methods to your class.  Start by copying the `class` definition you already wrote.  Then, inside the `class` definition:\n",
        "\n",
        "  (a) Write a method called `unknownParent()` which returns `True` if any parent is 'unknown' and `False` otherwise.\n",
        "\n",
        "  (b) Write a method called `maternalGrandmother()` which returns the mother's mother.  If the mother is unknown, it should return 'unknown'.\n",
        "\n"
      ],
      "metadata": {
        "id": "1g1pcrmFHzGh"
      }
    },
    {
      "cell_type": "code",
      "source": [
        "class Person:\n",
        "  def __init__(self,lastName,firstName,mother,father):\n",
        "    self.lastName = lastName\n",
        "    self.firstName = firstName\n",
        "    self.mother = mother\n",
        "    self.father = father\n",
        "  def __str__(self):\n",
        "    return f\"{self.firstName} {self.lastName}\"\n",
        "  def __repr__(self):\n",
        "    return f'Person(\"{self.lastName}\",\"{self.firstName}\",\"{self.mother}\",\"{self.father}\")'\n",
        "  def unknownParent(self):\n",
        "    if self.mother == 'unknown' or self.father == 'unknown':\n",
        "      return True\n",
        "    else:\n",
        "      return False\n",
        "  def maternalGrandmother(self):\n",
        "    if self.mother == 'unknown':\n",
        "      return f\"{self}'s mother is unknown.\"\n",
        "    elif self.mother.mother == \"unknown\":\n",
        "      return f\"{self}'s grandmother is unknown.\"\n",
        "    else:\n",
        "      return f\"{self}'s grandmother is {self.mother.mother}\""
      ],
      "metadata": {
        "id": "7mIxJGwwKTpv"
      },
      "execution_count": 21,
      "outputs": []
    },
    {
      "cell_type": "markdown",
      "source": [
        "Create enough `Person` objects to test whether your methods are working properly.  Show all your inputs and outputs.  It is up to you to demonstrate that you have thoroughly tested the code.  You may use additional code and/or text chunks if it helps."
      ],
      "metadata": {
        "id": "l9-4gxd8FxAQ"
      }
    },
    {
      "cell_type": "code",
      "source": [
        "pmm = Person(\"Swift\",\"Andrea\",\"unknown\",\"unknown\")\n",
        "pm = Person('Swift','Taylor',pmm,'Scott Kingsley Swift')\n",
        "p = Person(\"Ryan\",\"Jim\",pm,'unknown')\n",
        "pl = Person('Sparrow','Jack','unknown','Rick Riordan')\n",
        "\n",
        "print(p.unknownParent())\n",
        "print(pm.unknownParent())\n",
        "\n",
        "print(p.maternalGrandmother())\n",
        "print(pm.maternalGrandmother())\n",
        "print(pl.maternalGrandmother())"
      ],
      "metadata": {
        "id": "gX1qpcKzFwoZ",
        "colab": {
          "base_uri": "https://localhost:8080/"
        },
        "outputId": "20494ee3-5e69-423e-a726-de4a105e9ba6"
      },
      "execution_count": 22,
      "outputs": [
        {
          "output_type": "stream",
          "name": "stdout",
          "text": [
            "True\n",
            "False\n",
            "Jim Ryan's grandmother is Andrea Swift\n",
            "Taylor Swift's grandmother is unknown.\n",
            "Jack Sparrow's mother is unknown.\n"
          ]
        }
      ]
    },
    {
      "cell_type": "markdown",
      "source": [
        "# Or.... (Sorry couldn't figure it out) I tried to make a general answer to this without needing to create a person for parents.\n",
        "Please ignore."
      ],
      "metadata": {
        "id": "PixpOEoYGpxW"
      }
    },
    {
      "cell_type": "code",
      "source": [
        "class Person:\n",
        "  instanceArr = []\n",
        "  def __init__(self,lastName,firstName,mother,father):\n",
        "    # if self in self.instanceArr == False:\n",
        "    #   self.__class__.instanceArr.append(self)    # records all instances of class Person\n",
        "    self.lastName = lastName\n",
        "    self.firstName = firstName\n",
        "    self.mother = mother\n",
        "    self.father = father\n",
        "  def __str__(self):\n",
        "    return f\"{self.firstName} {self.lastName}\"\n",
        "  def __repr__(self):\n",
        "    return f'Person(\"{self.lastName}\",\"{self.firstName}\",\"{self.mother}\",\"{self.father}\")'\n",
        "  def unknownParent(self):\n",
        "    if self.mother == 'unknown' or self.father == 'unknown':\n",
        "      return True\n",
        "    else:\n",
        "      return False\n",
        "  def maternalGrandmother(self):\n",
        "    if self.mother == 'unknown':\n",
        "      return 'unknown'\n",
        "    else:\n",
        "      mother_names = self.mother.split()\n",
        "      for per in self.instanceArr:\n",
        "        for n in mother_names:\n",
        "          if n == per.lastName or n == per.firstName:\n",
        "            return f\"{self}'s grandmother is {per.mother}\"\n",
        "          else:\n",
        "            return 'unknown'\n",
        "      return f\"{(self.mother)}'s mother is unknown.\""
      ],
      "metadata": {
        "id": "1jtWptJXGshc"
      },
      "execution_count": 7,
      "outputs": []
    },
    {
      "cell_type": "code",
      "source": [
        "p = Person(\"Ryan\",\"Jim\",'Taylor Swift','unknown')\n",
        "pfalse = Person(\"Ryan\",\"Jimmy\",'Taylor Swift','unknown')\n",
        "pm = Person('Swift','Taylor','Andrea Swift','Scott Kingsley Swift')\n",
        "pl = Person('Sparrow','Jack','unknown','Rick Riordan')\n",
        "\n",
        "print(p.unknownParent())\n",
        "print(pm.unknownParent())\n",
        "\n",
        "print(p.maternalGrandmother())\n",
        "print(pm.maternalGrandmother())\n",
        "print(pl.maternalGrandmother())\n",
        "\n",
        "print(Person.instanceArr)"
      ],
      "metadata": {
        "colab": {
          "base_uri": "https://localhost:8080/"
        },
        "id": "inN8KbHJISzN",
        "outputId": "de1e6138-d99b-447a-d6dc-bd1dbee8dd6f"
      },
      "execution_count": 8,
      "outputs": [
        {
          "output_type": "stream",
          "name": "stdout",
          "text": [
            "True\n",
            "False\n",
            "Taylor Swift's mother is unknown.\n",
            "Andrea Swift's mother is unknown.\n",
            "unknown\n",
            "[]\n"
          ]
        }
      ]
    }
  ]
}