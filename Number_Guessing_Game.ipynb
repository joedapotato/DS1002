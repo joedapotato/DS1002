{
  "nbformat": 4,
  "nbformat_minor": 0,
  "metadata": {
    "colab": {
      "provenance": [],
      "authorship_tag": "ABX9TyMPTQoOqRbEuvx6iK74z7Ze",
      "include_colab_link": true
    },
    "kernelspec": {
      "name": "python3",
      "display_name": "Python 3"
    },
    "language_info": {
      "name": "python"
    }
  },
  "cells": [
    {
      "cell_type": "markdown",
      "metadata": {
        "id": "view-in-github",
        "colab_type": "text"
      },
      "source": [
        "<a href=\"https://colab.research.google.com/github/joedapotato/DS1002/blob/main/Number_Guessing_Game.ipynb\" target=\"_parent\"><img src=\"https://colab.research.google.com/assets/colab-badge.svg\" alt=\"Open In Colab\"/></a>"
      ]
    },
    {
      "cell_type": "code",
      "execution_count": null,
      "metadata": {
        "id": "caf2DuGb3w-B"
      },
      "outputs": [],
      "source": []
    },
    {
      "cell_type": "markdown",
      "source": [
        "# Guessing Game\n",
        "By Joe Liang\n",
        "\n",
        "DS 1002\n",
        "\n",
        "Time for completion: ~20 minutes"
      ],
      "metadata": {
        "id": "vcOybsBH3ynC"
      }
    },
    {
      "cell_type": "code",
      "source": [
        "import numpy as np\n",
        "\n",
        "def guessing_game():\n",
        "  user_num = -1\n",
        "  tries = 0\n",
        "  rand_num = np.random.randint(0,100)\n",
        "  while user_num != rand_num:\n",
        "    try:\n",
        "      user_num = input(\"What is the random number, from 1 to 100?\")\n",
        "      user_num = int(user_num)\n",
        "      if user_num < 1 or user_num > 100:\n",
        "        print(\"Please guess an integer from 1 to 100.\")\n",
        "      else:\n",
        "        tries += 1\n",
        "        if user_num < rand_num:\n",
        "          print(\"Too low.\")\n",
        "        if user_num > rand_num:\n",
        "          print(\"Too high\")\n",
        "        if user_num == rand_num:\n",
        "          print(\"Congratulations! The random number is indeed\", str(rand_num) + \". You guessed it in\", str(tries), \"guesses.\")\n",
        "    except ValueError:\n",
        "      print(\"Please input an integer.\")\n",
        "\n",
        "guessing_game()"
      ],
      "metadata": {
        "id": "B3ArSYwU3JYb",
        "colab": {
          "base_uri": "https://localhost:8080/"
        },
        "outputId": "6919080e-f9de-4ce9-92f0-e4f0405961e9"
      },
      "execution_count": 2,
      "outputs": [
        {
          "output_type": "stream",
          "name": "stdout",
          "text": [
            "What is the random number, from 1 to 100?60\n",
            "Too high\n",
            "What is the random number, from 1 to 100?30\n",
            "Too low.\n",
            "What is the random number, from 1 to 100?40\n",
            "Too high\n",
            "What is the random number, from 1 to 100?55\n",
            "Too high\n",
            "What is the random number, from 1 to 100?50\n",
            "Too high\n",
            "What is the random number, from 1 to 100?45\n",
            "Too high\n",
            "What is the random number, from 1 to 100?44\n",
            "Too high\n",
            "What is the random number, from 1 to 100?38\n",
            "Too high\n",
            "What is the random number, from 1 to 100?34\n",
            "Too low.\n",
            "What is the random number, from 1 to 100?36\n",
            "Too high\n",
            "What is the random number, from 1 to 100?35\n",
            "Congratulations! The random number is indeed 35. You guessed it in 11 guesses.\n"
          ]
        }
      ]
    }
  ]
}