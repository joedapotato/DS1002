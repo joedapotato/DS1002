{
  "nbformat": 4,
  "nbformat_minor": 0,
  "metadata": {
    "colab": {
      "provenance": [],
      "include_colab_link": true
    },
    "kernelspec": {
      "name": "python3",
      "display_name": "Python 3"
    },
    "language_info": {
      "name": "python"
    }
  },
  "cells": [
    {
      "cell_type": "markdown",
      "metadata": {
        "id": "view-in-github",
        "colab_type": "text"
      },
      "source": [
        "<a href=\"https://colab.research.google.com/github/joedapotato/DS1002/blob/main/14_TextGeneration_Joe_Liang.ipynb\" target=\"_parent\"><img src=\"https://colab.research.google.com/assets/colab-badge.svg\" alt=\"Open In Colab\"/></a>"
      ]
    },
    {
      "cell_type": "markdown",
      "source": [
        "## Final homework assignment:  generating text from a corpus\n",
        "\n",
        "Due Friday 3 May at 5 pm\n",
        "\n",
        "By Joe Liang"
      ],
      "metadata": {
        "id": "tWbrZqoW5281"
      }
    },
    {
      "cell_type": "markdown",
      "source": [
        "We begin by loading all of Shakespeare's plays into a text file, and separating them into individual words.  This is made easy by the fact that someone already made a giant text file of these plays for us, and put it online.\n",
        "\n",
        "[Note that by changing the url in the following code chunk, you can load any text file that lives online in this way . . . see below.]\n",
        "\n",
        "Run the following code.  It should output a list of ten words, starting with 'From' and ending with 'rose'."
      ],
      "metadata": {
        "id": "7tMMjgkjF7gk"
      }
    },
    {
      "cell_type": "code",
      "source": [
        "from urllib.request import urlopen            #package for reading info from the web\n",
        "url='https://ocw.mit.edu/ans7870/6/6.006/s08/lecturenotes/files/t8.shakespeare.txt'   #web address\n",
        "text = urlopen(url).read().decode('utf-8')    #open web address, read file, convert to text\n",
        "shakespeare_words=text.split()[1651:]         #split text into words (not including preamble)\n",
        "shakespeare_words[:10]                        #display the first 10 words"
      ],
      "metadata": {
        "id": "PoW71ljm2GS-",
        "colab": {
          "base_uri": "https://localhost:8080/"
        },
        "outputId": "b3b4076e-f7e3-490b-f876-3a97fa07577c"
      },
      "execution_count": 26,
      "outputs": [
        {
          "output_type": "execute_result",
          "data": {
            "text/plain": [
              "['From',\n",
              " 'fairest',\n",
              " 'creatures',\n",
              " 'we',\n",
              " 'desire',\n",
              " 'increase,',\n",
              " 'That',\n",
              " 'thereby',\n",
              " \"beauty's\",\n",
              " 'rose']"
            ]
          },
          "metadata": {},
          "execution_count": 26
        }
      ]
    },
    {
      "cell_type": "markdown",
      "source": [
        "## 1. `nextwords` practice\n",
        "\n",
        "Create a practice function called `createNextwordsPractice` which takes a list of words called `wordlist` and returns a dictionary called `nextwordsPractice`. The keys of `nextwordsPractice` should be all the words in `wordlist`, and the value for any given key should be a list of all the words that follow the key word somewhere in the original `wordlist`.\n",
        "\n"
      ],
      "metadata": {
        "id": "AIeohQaAHRF8"
      }
    },
    {
      "cell_type": "code",
      "source": [
        "# def createNextwordsPractice(wordlist): #takes too long\n",
        "#   nextwordsPractice = {}\n",
        "#   for key in wordlist:\n",
        "#     if key not in nextwordsPractice.keys():\n",
        "#       nextwordsPractice[key] = [wordlist[index+1] for index,word in enumerate(wordlist) if index < len(wordlist)-1 and word == key]\n",
        "#   return nextwordsPractice\n",
        "\n",
        "def createNextwordsPractice(wordlist): #takes way less time\n",
        "  nextwordsPractice = {}\n",
        "  for index, word in enumerate(wordlist):\n",
        "    if word in nextwordsPractice.keys() and index < len(wordlist)-1:\n",
        "      nextwordsPractice[word].append(wordlist[index+1])\n",
        "    else:\n",
        "      nextwordsPractice[word] = [wordlist[index+1]] if index < len(wordlist)-1 else []\n",
        "  return nextwordsPractice"
      ],
      "metadata": {
        "id": "2XZa2K3C3InW"
      },
      "execution_count": 27,
      "outputs": []
    },
    {
      "cell_type": "code",
      "source": [
        "print(len(shakespeare_words))\n",
        "print(shakespeare_words[-100:])"
      ],
      "metadata": {
        "colab": {
          "base_uri": "https://localhost:8080/"
        },
        "id": "H_YOBc3Hf4Ix",
        "outputId": "b79adff4-4bdc-4f12-d90b-4d790fe95226"
      },
      "execution_count": 28,
      "outputs": [
        {
          "output_type": "stream",
          "name": "stdout",
          "text": [
            "899674\n",
            "['Would', 'yet', 'again', 'betray', 'the', 'fore-betrayed,', 'And', 'new', 'pervert', 'a', 'reconciled', \"maid.'\", 'THE', 'END', '<<THIS', 'ELECTRONIC', 'VERSION', 'OF', 'THE', 'COMPLETE', 'WORKS', 'OF', 'WILLIAM', 'SHAKESPEARE', 'IS', 'COPYRIGHT', '1990-1993', 'BY', 'WORLD', 'LIBRARY,', 'INC.,', 'AND', 'IS', 'PROVIDED', 'BY', 'PROJECT', 'GUTENBERG', 'ETEXT', 'OF', 'ILLINOIS', 'BENEDICTINE', 'COLLEGE', 'WITH', 'PERMISSION.', 'ELECTRONIC', 'AND', 'MACHINE', 'READABLE', 'COPIES', 'MAY', 'BE', 'DISTRIBUTED', 'SO', 'LONG', 'AS', 'SUCH', 'COPIES', '(1)', 'ARE', 'FOR', 'YOUR', 'OR', 'OTHERS', 'PERSONAL', 'USE', 'ONLY,', 'AND', '(2)', 'ARE', 'NOT', 'DISTRIBUTED', 'OR', 'USED', 'COMMERCIALLY.', 'PROHIBITED', 'COMMERCIAL', 'DISTRIBUTION', 'INCLUDES', 'BY', 'ANY', 'SERVICE', 'THAT', 'CHARGES', 'FOR', 'DOWNLOAD', 'TIME', 'OR', 'FOR', 'MEMBERSHIP.>>', 'End', 'of', 'this', 'Etext', 'of', 'The', 'Complete', 'Works', 'of', 'William', 'Shakespeare']\n"
          ]
        }
      ]
    },
    {
      "cell_type": "markdown",
      "source": [
        "Run the following code:"
      ],
      "metadata": {
        "id": "FH3N2raWjtfd"
      }
    },
    {
      "cell_type": "code",
      "source": [
        "practice = createNextwordsPractice(shakespeare_words)\n",
        "practice['From']"
      ],
      "metadata": {
        "id": "P3M8beYAjiie",
        "colab": {
          "base_uri": "https://localhost:8080/"
        },
        "outputId": "0b7d57a0-f791-40b7-edee-c60a8c606b96"
      },
      "execution_count": 29,
      "outputs": [
        {
          "output_type": "execute_result",
          "data": {
            "text/plain": [
              "['fairest',\n",
              " 'his',\n",
              " 'sullen',\n",
              " 'limits',\n",
              " 'hands',\n",
              " 'whence',\n",
              " 'where',\n",
              " 'me',\n",
              " 'this',\n",
              " 'thy',\n",
              " 'hence',\n",
              " 'thee,',\n",
              " 'you',\n",
              " 'heaven',\n",
              " 'her',\n",
              " 'simple',\n",
              " 'whence',\n",
              " 'below',\n",
              " 'lowest',\n",
              " 'courtly',\n",
              " 'son',\n",
              " 'the',\n",
              " 'the',\n",
              " 'Sicyon,',\n",
              " 'Alexandria',\n",
              " 'Silvius,',\n",
              " 'mine',\n",
              " 'the',\n",
              " 'firm',\n",
              " 'Egypt',\n",
              " 'Antony',\n",
              " 'thine',\n",
              " 'that',\n",
              " 'my',\n",
              " 'me',\n",
              " 'henceforth',\n",
              " 'tyrant',\n",
              " 'seventeen',\n",
              " 'miserable',\n",
              " 'whom',\n",
              " 'my',\n",
              " 'whence,',\n",
              " 'me',\n",
              " 'me',\n",
              " 'slaves',\n",
              " 'every',\n",
              " 'rascals',\n",
              " 'whom',\n",
              " 'where',\n",
              " \"th'\",\n",
              " 'Rome',\n",
              " 'off',\n",
              " 'these',\n",
              " 'twelve',\n",
              " \"th'\",\n",
              " 'whence?',\n",
              " 'Rome.',\n",
              " 'thy',\n",
              " 'Gallia',\n",
              " 'fairies',\n",
              " 'off',\n",
              " \"th'\",\n",
              " 'most',\n",
              " 'thy',\n",
              " 'youth',\n",
              " 'every',\n",
              " 'whose',\n",
              " 'so',\n",
              " 'one',\n",
              " 'this',\n",
              " 'the',\n",
              " 'east',\n",
              " 'action',\n",
              " 'my',\n",
              " 'this',\n",
              " 'Leonati',\n",
              " 'her',\n",
              " 'chance',\n",
              " 'south',\n",
              " 'our',\n",
              " 'whence',\n",
              " 'the',\n",
              " 'top',\n",
              " 'this',\n",
              " 'our',\n",
              " 'that',\n",
              " 'me,',\n",
              " 'fashion',\n",
              " 'the',\n",
              " 'another',\n",
              " 'Hamlet?',\n",
              " 'whence',\n",
              " 'whom',\n",
              " \"Rumour's\",\n",
              " 'whence',\n",
              " 'the',\n",
              " 'a',\n",
              " 'a',\n",
              " 'enemies',\n",
              " 'every',\n",
              " 'this',\n",
              " 'the',\n",
              " 'open',\n",
              " 'whom',\n",
              " \"glist'ring\",\n",
              " 'our',\n",
              " 'him,',\n",
              " 'his',\n",
              " 'him,',\n",
              " 'camp',\n",
              " 'this',\n",
              " 'off',\n",
              " 'helmet',\n",
              " 'him',\n",
              " 'off',\n",
              " 'Lionel',\n",
              " 'John',\n",
              " 'famous',\n",
              " 'envious',\n",
              " 'whence',\n",
              " 'thence',\n",
              " 'bought',\n",
              " 'thee,',\n",
              " 'top',\n",
              " 'thence',\n",
              " 'meaning',\n",
              " \"treason's\",\n",
              " 'such',\n",
              " 'thee',\n",
              " 'Ireland',\n",
              " \"Clifford's\",\n",
              " 'your',\n",
              " 'London',\n",
              " 'whence',\n",
              " 'off',\n",
              " 'whence',\n",
              " 'Scotland',\n",
              " 'such',\n",
              " 'worthy',\n",
              " 'these',\n",
              " 'giving',\n",
              " 'France?',\n",
              " 'Ravenspurgh',\n",
              " 'shelves',\n",
              " 'those',\n",
              " 'his',\n",
              " 'sincere',\n",
              " 'every',\n",
              " 'foreign',\n",
              " 'princes',\n",
              " 'these',\n",
              " 'any',\n",
              " 'Ampthill,',\n",
              " 'your',\n",
              " 'hence',\n",
              " 'her',\n",
              " 'henceforth',\n",
              " 'France',\n",
              " 'whom',\n",
              " 'that',\n",
              " 'first',\n",
              " 'north',\n",
              " 'all',\n",
              " 'a',\n",
              " 'his',\n",
              " 'France',\n",
              " 'forth',\n",
              " 'whose',\n",
              " 'forth',\n",
              " 'this',\n",
              " 'out',\n",
              " 'forth',\n",
              " 'that',\n",
              " 'the',\n",
              " 'which',\n",
              " 'whom',\n",
              " 'what',\n",
              " 'the',\n",
              " 'hence',\n",
              " 'this',\n",
              " 'Goneril',\n",
              " 'those',\n",
              " 'seasons',\n",
              " 'that',\n",
              " 'her',\n",
              " 'the',\n",
              " 'a',\n",
              " 'tawny',\n",
              " \"reason's\",\n",
              " 'my',\n",
              " 'which',\n",
              " 'my',\n",
              " 'the',\n",
              " \"women's\",\n",
              " 'whence',\n",
              " \"women's\",\n",
              " 'morn',\n",
              " 'what',\n",
              " 'Fife,',\n",
              " 'hence',\n",
              " 'this',\n",
              " 'thence',\n",
              " 'whom',\n",
              " 'the',\n",
              " 'this',\n",
              " 'whence',\n",
              " 'what',\n",
              " 'over-credulous',\n",
              " 'which',\n",
              " 'too',\n",
              " 'whom',\n",
              " 'his',\n",
              " 'fasting',\n",
              " 'thee;',\n",
              " \"flow'ry\",\n",
              " 'thine',\n",
              " 'such',\n",
              " 'our',\n",
              " 'such',\n",
              " 'the',\n",
              " 'the',\n",
              " 'whom',\n",
              " 'Tripolis,',\n",
              " 'Lisbon,',\n",
              " 'out',\n",
              " 'any',\n",
              " 'brassy',\n",
              " 'stubborn',\n",
              " 'both,',\n",
              " 'the',\n",
              " 'the',\n",
              " 'time',\n",
              " 'Athens',\n",
              " \"lovers'\",\n",
              " 'Perigouna,',\n",
              " 'our',\n",
              " 'sleeping',\n",
              " \"monster's\",\n",
              " 'these',\n",
              " 'off',\n",
              " 'the',\n",
              " 'my',\n",
              " 'Claudio,',\n",
              " 'men',\n",
              " 'year',\n",
              " 'her',\n",
              " 'him',\n",
              " 'one',\n",
              " 'jealousy!',\n",
              " 'whence',\n",
              " 'the',\n",
              " 'any',\n",
              " 'the',\n",
              " 'this',\n",
              " 'giving',\n",
              " 'where',\n",
              " 'forth',\n",
              " 'some',\n",
              " 'Ravenspurgh',\n",
              " 'the',\n",
              " 'forth',\n",
              " 'off',\n",
              " 'my',\n",
              " \"Richard's\",\n",
              " 'out',\n",
              " 'sun',\n",
              " \"plume-pluck'd\",\n",
              " 'which',\n",
              " 'whence',\n",
              " 'your',\n",
              " 'whence',\n",
              " 'cold',\n",
              " 'wayward',\n",
              " 'that',\n",
              " 'this',\n",
              " 'my',\n",
              " 'the',\n",
              " 'all',\n",
              " 'forth',\n",
              " 'which',\n",
              " 'all',\n",
              " 'Tamworth',\n",
              " 'the',\n",
              " 'ancient',\n",
              " 'forth',\n",
              " \"Love's\",\n",
              " 'forth',\n",
              " 'off',\n",
              " 'this',\n",
              " 'all',\n",
              " 'Florence,',\n",
              " 'mine',\n",
              " 'the',\n",
              " 'what',\n",
              " 'me,',\n",
              " 'bogs,',\n",
              " 'me',\n",
              " 'Milan',\n",
              " 'toe',\n",
              " 'eaves',\n",
              " 'strange',\n",
              " 'whence',\n",
              " 'Isidore:',\n",
              " 'our',\n",
              " 'forth',\n",
              " 'change',\n",
              " \"gen'ral\",\n",
              " 'high',\n",
              " 'Alcibiades',\n",
              " 'niggard',\n",
              " 'weary',\n",
              " 'where',\n",
              " 'whence',\n",
              " 'this',\n",
              " 'these',\n",
              " 'thousand',\n",
              " 'heaven!',\n",
              " 'isles',\n",
              " 'his',\n",
              " 'Troy.',\n",
              " \"Cupid's\",\n",
              " 'false',\n",
              " 'certain',\n",
              " 'Troy',\n",
              " 'heart',\n",
              " 'whence,',\n",
              " 'my',\n",
              " 'the',\n",
              " 'the',\n",
              " 'my',\n",
              " 'a',\n",
              " 'hence,',\n",
              " 'Milan.',\n",
              " 'whom?',\n",
              " 'my',\n",
              " 'heartiness,',\n",
              " 'east,',\n",
              " 'course',\n",
              " 'him',\n",
              " 'our',\n",
              " 'all',\n",
              " 'your',\n",
              " 'those',\n",
              " 'the',\n",
              " \"Dis's\",\n",
              " 'the',\n",
              " 'my',\n",
              " 'thy',\n",
              " 'off']"
            ]
          },
          "metadata": {},
          "execution_count": 29
        }
      ]
    },
    {
      "cell_type": "code",
      "source": [
        "practice['rose']"
      ],
      "metadata": {
        "id": "W5FCOXElICLb",
        "colab": {
          "base_uri": "https://localhost:8080/"
        },
        "outputId": "22a8321a-de6f-46b8-b8ac-a116167b67dc"
      },
      "execution_count": 30,
      "outputs": [
        {
          "output_type": "execute_result",
          "data": {
            "text/plain": [
              "['might',\n",
              " 'looks',\n",
              " 'is',\n",
              " 'of',\n",
              " 'Of',\n",
              " 'may',\n",
              " 'will',\n",
              " 'of',\n",
              " 'From',\n",
              " 'and',\n",
              " 'of',\n",
              " 'both',\n",
              " 'with',\n",
              " 'from',\n",
              " 'with',\n",
              " 'with',\n",
              " 'side.',\n",
              " 'red,',\n",
              " 'too.',\n",
              " 'in',\n",
              " 'a',\n",
              " 'a',\n",
              " 'I',\n",
              " 'against',\n",
              " 'that',\n",
              " 'and',\n",
              " 'from',\n",
              " 'again,',\n",
              " 'Lest',\n",
              " 'against',\n",
              " 'Than',\n",
              " \"distill'd\",\n",
              " 'on',\n",
              " 'up',\n",
              " 'in',\n",
              " 'wither.',\n",
              " 'and',\n",
              " 'By',\n",
              " 'again?',\n",
              " 'he']"
            ]
          },
          "metadata": {},
          "execution_count": 30
        }
      ]
    },
    {
      "cell_type": "code",
      "source": [
        "practice['rose.']"
      ],
      "metadata": {
        "id": "Vr57wNx5BO4K",
        "colab": {
          "base_uri": "https://localhost:8080/"
        },
        "outputId": "0b388e89-17b2-4083-a27f-8e78bb4abd1f"
      },
      "execution_count": 31,
      "outputs": [
        {
          "output_type": "execute_result",
          "data": {
            "text/plain": [
              "['It']"
            ]
          },
          "metadata": {},
          "execution_count": 31
        }
      ]
    },
    {
      "cell_type": "markdown",
      "source": [
        "## 2. `nextwords` for real:  new sentences.\n",
        "\n",
        "Next, write a new function called `createNextwords` which takes a `wordlist` and returns a dictionary of `nextwords`, but now with a new additional feature.  \n",
        "In addition to the keys from problem 1, add a special key to the dictionary, which will be the symbol '%'.  This key will signify the first word of a sentence. When scanning the wordlist to construct the `nextwords` dictionary, normally you would add `wordlist[i+1]` to the list `nextwords[wordlist[i]]`. However, if `wordlist[i]` ends with a period, then you should instead add `wordlist[i+1]` to the list nextwords['%']. Also add the very first word of `wordlist` to nextwords['%'].\n",
        "\n",
        "\n",
        "You should be able to produce this output:\n",
        "```\n",
        "> shakespeare_nextwords=createNextwords(shakespeare_words)\n",
        "> shakespeare_nextwords['Rose']\n",
        "['at', 'or', 'or', 'and']\n",
        "\n",
        "> shakespeare_nextwords['rose.']\n",
        "[]\n",
        "\n",
        "> len(shakespeare_nextwords['%'])\n",
        "76543\n",
        "```"
      ],
      "metadata": {
        "id": "t221x1X3iRVA"
      }
    },
    {
      "cell_type": "code",
      "source": [
        "def createNextwords(wordlist):\n",
        "  nextwords = {'%':[]}\n",
        "  for index, word in enumerate(wordlist):\n",
        "    word_split = [*word]\n",
        "    if word_split[-1] == '.':\n",
        "      nextwords[word] = []\n",
        "      nextwords['%'].append(wordlist[index+1])\n",
        "    elif word in nextwords.keys() and index < len(wordlist)-1:\n",
        "      nextwords[word].append(wordlist[index+1])\n",
        "    else:\n",
        "      nextwords[word] = [wordlist[index+1]] if index < len(wordlist)-1 else []\n",
        "  return nextwords"
      ],
      "metadata": {
        "id": "Ze_-Uv2alRWX"
      },
      "execution_count": 32,
      "outputs": []
    },
    {
      "cell_type": "markdown",
      "source": [
        "Run the following code:"
      ],
      "metadata": {
        "id": "x7bamoxBlX6Q"
      }
    },
    {
      "cell_type": "code",
      "source": [
        "shakespeare_nextwords = createNextwords(shakespeare_words)\n",
        "\n",
        "print(shakespeare_nextwords['Rose'])\n",
        "print(len(shakespeare_nextwords['%']))"
      ],
      "metadata": {
        "id": "xv4ANlzvlZ2e",
        "colab": {
          "base_uri": "https://localhost:8080/"
        },
        "outputId": "4014be74-6f42-4fbf-cb9c-6ce0ac908fb0"
      },
      "execution_count": 33,
      "outputs": [
        {
          "output_type": "stream",
          "name": "stdout",
          "text": [
            "['at', 'or', 'or', 'and']\n",
            "76542\n"
          ]
        }
      ]
    },
    {
      "cell_type": "code",
      "source": [
        "print(len(shakespeare_nextwords['rose']))"
      ],
      "metadata": {
        "id": "NsLW7PYYCj1r",
        "colab": {
          "base_uri": "https://localhost:8080/"
        },
        "outputId": "fb9d025d-bc83-475c-cc74-1d11d1cb9833"
      },
      "execution_count": 34,
      "outputs": [
        {
          "output_type": "stream",
          "name": "stdout",
          "text": [
            "40\n"
          ]
        }
      ]
    },
    {
      "cell_type": "code",
      "source": [
        "print(shakespeare_nextwords['rose.'])"
      ],
      "metadata": {
        "id": "NyjLxUKiIPqG",
        "colab": {
          "base_uri": "https://localhost:8080/"
        },
        "outputId": "3a2090bc-51a9-4e2a-f76e-7d8e6402d56c"
      },
      "execution_count": 35,
      "outputs": [
        {
          "output_type": "stream",
          "name": "stdout",
          "text": [
            "[]\n"
          ]
        }
      ]
    },
    {
      "cell_type": "markdown",
      "source": [
        "## 3.  Make your own Shakespeare play\n",
        "\n",
        "Okay, that may be a bit of an exaggeration.  Anyway, next up is text generation.  \n",
        "We'll need the choice function:"
      ],
      "metadata": {
        "id": "BCIAfYSIX3VC"
      }
    },
    {
      "cell_type": "code",
      "source": [
        "from random import choice"
      ],
      "metadata": {
        "id": "rbBHDv55Biae"
      },
      "execution_count": 36,
      "outputs": []
    },
    {
      "cell_type": "markdown",
      "source": [
        "This function chooses a random element from a list.  Run this code a few times:"
      ],
      "metadata": {
        "id": "-vCM3Z0BmAw9"
      }
    },
    {
      "cell_type": "code",
      "source": [
        "choice([1, 17, 34, 289])"
      ],
      "metadata": {
        "id": "FGMf-UmAl_uf",
        "colab": {
          "base_uri": "https://localhost:8080/"
        },
        "outputId": "ebc9cc6d-939e-40e9-90d3-63c2d7666b64"
      },
      "execution_count": 37,
      "outputs": [
        {
          "output_type": "execute_result",
          "data": {
            "text/plain": [
              "17"
            ]
          },
          "metadata": {},
          "execution_count": 37
        }
      ]
    },
    {
      "cell_type": "markdown",
      "source": [
        "Now, create a function called `makePlay(nextwords,n)` which takes a dictionary `nextwords` and a number `n`, and follows these steps:\n",
        "1. Define an empty `newplay` string.  (I did this for you.)\n",
        "2. Set `currentword` equal to '%'.\n",
        "3. Start a for-loop that will run `n` times.\n",
        "4. Randomly choose a word from the list `nextwords[currentword]`.\n",
        "5. Add the chosen word to `newplay`, followed by a space `' '` character.\n",
        "6. If the chosen word ends in a period, add a newline character '\\n' and set `currentword` equal to `%`.\n",
        "7. Otherwise, set `currentword` equal to the chosen word.\n",
        "8. Go back to step 4.\n",
        "9. When all `n` iterations have finished, your function should return `newplay`."
      ],
      "metadata": {
        "id": "ZmLqxclQYMpl"
      }
    },
    {
      "cell_type": "code",
      "source": [
        "def makePlay(nextwords,n):\n",
        "  newplay=''\n",
        "  currentword = '%'\n",
        "  for i in range(n):\n",
        "    currentword = choice(nextwords[currentword])\n",
        "    newplay = newplay + currentword + ' '\n",
        "    if [*currentword][-1] == '.':\n",
        "      newplay = newplay + '\\n'\n",
        "      currentword = '%'\n",
        "  return newplay\n"
      ],
      "metadata": {
        "id": "gMxDF-MiYqD2"
      },
      "execution_count": 38,
      "outputs": []
    },
    {
      "cell_type": "markdown",
      "source": [
        "Now create a 1000 word Shakesperian play by running the following code:"
      ],
      "metadata": {
        "id": "v_uCxqDZtuhP"
      }
    },
    {
      "cell_type": "code",
      "source": [
        "nextwords=createNextwords(shakespeare_words)\n",
        "newplay=makePlay(nextwords,1000)\n",
        "print(newplay)"
      ],
      "metadata": {
        "id": "KVtzPXWWEdDR",
        "colab": {
          "base_uri": "https://localhost:8080/"
        },
        "outputId": "48d01d12-1921-4193-8ca0-9855f9b6f220"
      },
      "execution_count": 39,
      "outputs": [
        {
          "output_type": "stream",
          "name": "stdout",
          "text": [
            "Lord, how that are dead, Whom we are all haste to five years are alone, or more deaf to old beard, your house; Since first by the ambassadors From Silvius, sir. \n",
            "Pol. \n",
            "FIRST CITIZEN. \n",
            "To what we for mock is worthiest, We thank you Go you well! It is surety, and dread Fury, Fury! There, take all but he frets like a breather. \n",
            "I'll forbear; you well. \n",
            "Pedro. \n",
            "ANNE. \n",
            "Ros. \n",
            "LAFEU. \n",
            "She excels the Great; for the citadel. \n",
            "All health and prayer, Much in two BASSANIO. \n",
            "But must think your mistress shall be the King Stephano! If he it is smoothed brows of your griefs; to question. \n",
            "I utter all offences A plot go we here? AENEAS. \n",
            "WESTMORELAND. \n",
            "O, Sir, I left them doth defile; so dear morsel, thy name There's a brave Austria. \n",
            "LUCIANA. \n",
            "O, the business in love, yet I know him worse. \n",
            "ACHILLES. \n",
            "Enter RICHARD, NORFOLK, MONTAGUE, with words, now in arms. \n",
            "What, shall answer to me, my word, And keep counsel! Lovers in going o'er the watchful cares down. \n",
            "Peace, plenty, Then will you see how thy ways; thou best heir to bear, So cowardly; and love thee in, after this, and a respite Wherein you're happy- which is not appearance argues an honest plain dealing, Pompey, Rich she did glance that name, fair Athens, to the lantern to arms, Could I have his sword] Take her fame Of yonder tower; Which she herself and honours and pray you to wit, And, as his to deny your spirit hies him dearly, And all the King. \n",
            "What's his trumpet call me patience? Is breach of rareness; and ill bestowed! Pedro. \n",
            "Thy asses do. \n",
            "Hot. \n",
            "I a velvet knows; but Samsons and such as longeth to her. \n",
            "And I am not a son to be so than hammer'd of these pangs. \n",
            "Heavens make twenty, forty, sir. \n",
            "SIR HUGH EVANS and honour, I'll wait for my arrival in the which break an eye Than to count not your Highness aims at, though thou wouldst as you not speak well advis'd? KING. \n",
            "Tut, man, and made of learning me up the King's poor rogue! you speak? Love, Whose worth's unknown, And, as little I go, And 'Honi soit qui mal y pense' write for conscience' sake, declare in thy feet than another? This door and welcome guest. \n",
            "Obey, and servant; And, being but I'll make the one doth wear: This is there, wife? FRENCH SOLDIER. \n",
            "This is only she; The Lord of the form in the judgment; But to be armed in scorning the play and that my prains what he lie in my trust upon our wilder nature never Yields us rich, so fairly met! Unto the gods and the winter's night; for you should do vex my lord. \n",
            "Royal Lear, King of the Centaurs' feast. \n",
            "WIDOW. \n",
            "Rebellion in a coffin there for it no further than a fly to Caius Lucius is a self-gracious remembrance lay thine own child. \n",
            "Why then am made to Timon, It fits not in sorrow. \n",
            "How now! King. \n",
            "Exeunt [all but with him, to lie heavy day! he's very courageous to murder me? I wash your person there? his brows, his figure may well when you take my jealousies be so dire departure thence discover What dost thou, proud a serious Importeth thee than a poison in their poesy disperse. \n",
            "GEORGE. \n",
            "Curan, meeting. \n",
            "Exit GENTLEWOMAN attending on thy teeth. \n",
            "MENENIUS. \n",
            "Judgment! Osr. \n",
            "How many men say thou tell'st me, let it be found. \n",
            "HELENA. \n",
            "Not palating the door Even then poor rude hand. \n",
            "She's an importing than matter. \n",
            "'Tis thee gone. \n",
            "ALENCON. \n",
            "I have show'd,' the proud Athens sent me that in you; they'll do prove his. \n",
            "CASSIUS. \n",
            "GREMIO. \n",
            "ORLANDO. \n",
            "I'll seek out this arm may Produce the commonwealth. \n",
            "TROILUS. \n",
            "146 Poor ropes, you are a brace of my sister, and all this. \n",
            "(He drinketh.) A foolish and dark'ning my flesh, my whole depth of his body- I say. \n",
            "How shall I can be in your true men. \n",
            "Who's that nothing more, which parted between the censures Attend his very seat of Banquo walk'd those impediments unto myself? By that do leave thee. \n",
            "PAINTER. \n",
            "Good Queen, whose wasting oil in the pile. \n",
            "Yea, sir, you o'er me notice of our foaming steeds, Thy truth will kiss her. \n",
            "This conduct us hence, and England prisoner? DUKE. \n",
            "FLUELLEN. \n",
            "TALBOT. \n",
            "AARON. \n",
            "Come, therefore, hence, and fair eyes fall upon your boy, run away. \n",
            "My lords, then, thus unknown, you see the nose. \n",
            "And now Than hands do appear offense As if we to them, such is this, till death. \n",
            "Mistress, 'respice finem,' respect that no more of mischief, and sends now in you For I'll depose thyself. \n",
            "BEROWNE. \n",
            "Ha? QUEEN MARGARET. \n",
            "ANTONIO. \n",
            "All France As strange serpents in carrying the winner of it. \n",
            "SECOND CITIZEN. \n",
            "Patient Octavia plough thy will! The rites are the cloud puts me than the matin to be not your flesh stick and Cassius wrong, but Humphrey Stafford dear father For men die. \n",
            "POSTHUMUS. \n",
            "Royal cheer, madam? And they rested I list to thy bed; With scruples, reconciled to this grass. \n",
            "I have business Seek the rest, would fly to speak not be strong as hasty to keep in heaven By him a horse, my God save your royal 'twas strange, hollow, and his crisp heaven Figur'd quite turn'd your heart. \n",
            "DUCHESS. \n",
            "Caesar' sister read it. \n",
            "Plain and gav'st him; His antidotes are too much; I'll sauce To my lord, An't like Sir Nathaniel? NATHANIEL. \n",
            "Go comfort of the equinoctial of that my company Clapp'd on his own is he? MALVOLIO. \n",
            "CLARENCE. \n",
            "FIRST SOLDIER. \n",
            "He may My heart Inflam'd with chaw'd grass, A merry mad-cap lord; They love he breaks The hands I could be trapp'd, Their fears in this buckled on, My bed on Gadshill. \n",
            "Can lay hands That you of plackets, king of Berri and Richard thus to be judge What fray to look for, ask'd thee presently I'll never breaks the state some Joan. \n",
            "The noise within: Mercy on \n"
          ]
        }
      ]
    },
    {
      "cell_type": "markdown",
      "source": [
        "At this point you might enjoy finding other sources of text on the internet and replacing the url at the top of this notebook. You can use song lyrics, news articles, etc. You just need to find files ending with '.txt'. Alternatively, you can copy and paste any block of text from any file into colab, assign it to the variable `text`, and then use wordlist=text.split() to get a list of words."
      ],
      "metadata": {
        "id": "cHcYHBcNu65y"
      }
    },
    {
      "cell_type": "markdown",
      "source": [
        "## Bonus:\n",
        "\n",
        "Recall the following recursive function that we used to define the Fibonacci numbers:"
      ],
      "metadata": {
        "id": "SOZ_vzwJoG45"
      }
    },
    {
      "cell_type": "code",
      "source": [
        "times_called = 0\n",
        "def fibonacci(n):\n",
        "  # Base cases: F(0) = 0, F(1) = 1\n",
        "  global times_called # Added to count amount of times the function is called.\n",
        "  times_called += 1\n",
        "  if n == 0:\n",
        "    return 0\n",
        "  elif n == 1:\n",
        "    return 1\n",
        "  else:\n",
        "    # Recursive case: F(n) = F(n-1) + F(n-2)\n",
        "    return fibonacci(n - 1) + fibonacci(n - 2)\n"
      ],
      "metadata": {
        "id": "KTj2L--_oQDu"
      },
      "execution_count": 40,
      "outputs": []
    },
    {
      "cell_type": "code",
      "source": [
        "times_called = 0 # Global variable incorporated into the function to count each time it was called.\n",
        "fibonacci(17)\n",
        "print('The function is called',times_called,'times.')"
      ],
      "metadata": {
        "colab": {
          "base_uri": "https://localhost:8080/"
        },
        "id": "OzdKw4Ww3D_W",
        "outputId": "080425c9-b736-4bd7-eafe-c55f7b52bdc6"
      },
      "execution_count": 41,
      "outputs": [
        {
          "output_type": "stream",
          "name": "stdout",
          "text": [
            "The function is called 5167 times.\n"
          ]
        }
      ]
    },
    {
      "cell_type": "markdown",
      "source": [
        "Here is the question.  If you run this line of code:  \n",
        "`fibonacci(17)`  \n",
        "how many times does the function `fibonacci()` get called?  \n",
        "(The answer is not 1597, which is the value returned by the function.)"
      ],
      "metadata": {
        "id": "C-PtiPKwod0m"
      }
    }
  ]
}